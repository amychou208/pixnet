{
 "cells": [
  {
   "cell_type": "markdown",
   "metadata": {
    "collapsed": false
   },
   "source": [
    "# profile-method1"
   ]
  },
  {
   "cell_type": "code",
   "execution_count": 1,
   "metadata": {
    "collapsed": false
   },
   "outputs": [
    {
     "ename": "UnicodeDecodeError",
     "evalue": "'ascii' codec can't decode byte 0xef in position 0: ordinal not in range(128)",
     "output_type": "error",
     "traceback": [
      "\u001b[0;31m---------------------------------------------------------------------------\u001b[0m",
      "\u001b[0;31mUnicodeDecodeError\u001b[0m                        Traceback (most recent call last)",
      "\u001b[0;32m<ipython-input-1-0dae88a3502c>\u001b[0m in \u001b[0;36m<module>\u001b[0;34m()\u001b[0m\n\u001b[1;32m     17\u001b[0m \u001b[0musername\u001b[0m \u001b[1;33m=\u001b[0m \u001b[0msoup\u001b[0m\u001b[1;33m.\u001b[0m\u001b[0mselect_one\u001b[0m\u001b[1;33m(\u001b[0m\u001b[1;34m'h3'\u001b[0m\u001b[1;33m)\u001b[0m\u001b[1;33m.\u001b[0m\u001b[0mtext\u001b[0m\u001b[1;33m\u001b[0m\u001b[0m\n\u001b[1;32m     18\u001b[0m \u001b[0mblogname\u001b[0m \u001b[1;33m=\u001b[0m \u001b[0msoup\u001b[0m\u001b[1;33m.\u001b[0m\u001b[0mselect_one\u001b[0m\u001b[1;33m(\u001b[0m\u001b[1;34m'a.blog_name'\u001b[0m\u001b[1;33m)\u001b[0m\u001b[1;33m.\u001b[0m\u001b[0mtext\u001b[0m\u001b[1;33m\u001b[0m\u001b[0m\n\u001b[0;32m---> 19\u001b[0;31m \u001b[0mblogarticles\u001b[0m \u001b[1;33m=\u001b[0m \u001b[0msoup\u001b[0m\u001b[1;33m.\u001b[0m\u001b[0mselect_one\u001b[0m\u001b[1;33m(\u001b[0m\u001b[1;34m'dl.blog-articles'\u001b[0m\u001b[1;33m)\u001b[0m\u001b[1;33m.\u001b[0m\u001b[0mtext\u001b[0m\u001b[1;33m.\u001b[0m\u001b[0msplit\u001b[0m\u001b[1;33m(\u001b[0m\u001b[1;34m'：'\u001b[0m\u001b[1;33m)\u001b[0m\u001b[1;33m[\u001b[0m\u001b[1;36m1\u001b[0m\u001b[1;33m]\u001b[0m\u001b[1;33m\u001b[0m\u001b[0m\n\u001b[0m\u001b[1;32m     20\u001b[0m \u001b[0musedays\u001b[0m \u001b[1;33m=\u001b[0m \u001b[0msoup\u001b[0m\u001b[1;33m.\u001b[0m\u001b[0mfind_all\u001b[0m\u001b[1;33m(\u001b[0m\u001b[1;34m'dd'\u001b[0m\u001b[1;33m)\u001b[0m\u001b[1;33m[\u001b[0m\u001b[1;36m1\u001b[0m\u001b[1;33m]\u001b[0m\u001b[1;33m.\u001b[0m\u001b[0mtext\u001b[0m\u001b[1;33m\u001b[0m\u001b[0m\n\u001b[1;32m     21\u001b[0m \u001b[0mfollower\u001b[0m \u001b[1;33m=\u001b[0m \u001b[0msoup\u001b[0m\u001b[1;33m.\u001b[0m\u001b[0mfind_all\u001b[0m\u001b[1;33m(\u001b[0m\u001b[1;34m'dd'\u001b[0m\u001b[1;33m)\u001b[0m\u001b[1;33m[\u001b[0m\u001b[1;36m3\u001b[0m\u001b[1;33m]\u001b[0m\u001b[1;33m.\u001b[0m\u001b[0mtext\u001b[0m\u001b[1;33m\u001b[0m\u001b[0m\n",
      "\u001b[0;31mUnicodeDecodeError\u001b[0m: 'ascii' codec can't decode byte 0xef in position 0: ordinal not in range(128)"
     ]
    }
   ],
   "source": [
    "# -*- coding: utf-8 -*-\n",
    "# import sys \n",
    "# reload(sys)\n",
    "# sys.setdefaultencoding('utf-8')\n",
    "\n",
    "import lxml\n",
    "import requests as r\n",
    "import json\n",
    "from bs4 import BeautifulSoup\n",
    "\n",
    "name=\"hopw721\"\n",
    "URL = \"https://www.pixnet.net/blog/profile/{}\"\n",
    "res = r.get(URL.format(name)) \n",
    "res.encoding = 'utf-8'\n",
    "soup = BeautifulSoup(res.text, 'lxml')\n",
    "\n",
    "username = soup.select_one('h3').text \n",
    "blogname = soup.select_one('a.blog_name').text \n",
    "blogarticles = soup.select_one('dl.blog-articles').text.split('：')[1] \n",
    "usedays = soup.find_all('dd')[1].text \n",
    "follower = soup.find_all('dd')[3].text \n",
    "friends = soup.find_all('dd')[4].text \n",
    "#hot = soup.find_all('dd')[2].text \n",
    "description = soup.select_one('p.hide-more').text \n",
    "\n",
    "profile_dict = {'username':username,\n",
    "                'blogname':blogname,\n",
    "                'blogarticles':blogarticles,\n",
    "                'usedays':usedays,\n",
    "                'follower':follower,\n",
    "                'friends':friends,\n",
    "                # 'hot':hot,\n",
    "                'description':description,\n",
    "               } \n",
    "\n",
    "print profile_dict\n",
    "\n",
    "# into json file\n",
    "#json.dump(profile_dict,open('{}.json'.format(name),'w'),ensure_ascii=False)\n"
   ]
  },
  {
   "cell_type": "markdown",
   "metadata": {},
   "source": [
    "# profile-method2"
   ]
  },
  {
   "cell_type": "code",
   "execution_count": 6,
   "metadata": {
    "collapsed": false,
    "scrolled": true
   },
   "outputs": [
    {
     "name": "stdout",
     "output_type": "stream",
     "text": [
      "username:小姐(hopw721)\n",
      "部落格名稱： 各縣市委託服務工作室\n",
      "使用痞客邦：  1,106 天\n",
      "訂閱數： 116 人\n",
      "好友： 1,729 人\n",
      "文章總數： 9 篇\n",
      "部落格描述： O9ll-l42-423陳小姐\n"
     ]
    }
   ],
   "source": [
    "\n",
    "# -*- coding: utf-8 -*-\n",
    "\n",
    "import lxml\n",
    "import requests as r\n",
    "from bs4 import BeautifulSoup\n",
    "\n",
    "name=\"hopw721\"\n",
    "URL = \"https://www.pixnet.net/blog/profile/{}\"\n",
    "res = r.get(URL.format(name)) \n",
    "res.encoding = 'UTF-8'\n",
    "soup = BeautifulSoup(res.text, 'lxml')\n",
    "\n",
    "details = soup.select('div.blogger-info')\n",
    "for detail in details:\n",
    "    #使用者\n",
    "    print 'username'+':'+detail.select_one('h3').text\n",
    "    #部落格描述\n",
    "    print detail.select_one('dl.blog-title').select('dt')[0].text,\\\n",
    "          detail.select_one('dl.blog-title').select('dd')[0].text\n",
    "    print detail.select_one('dl.blog-title').select('dt')[1].text,\\\n",
    "          detail.select_one('dl.blog-title').select('dd')[1].text \n",
    "    #要用selenium才抓得到人氣值 (JS)\n",
    "#     print detail.select_one('dl.blog-stats').select('dt')[0].text,\\\n",
    "#           detail.select_one('dl.blog-stats').select('dd')[0].text\n",
    "    print detail.select_one('dl.blog-stats').select('dt')[1].text,\\\n",
    "          detail.select_one('dl.blog-stats').select('dd')[1].text\n",
    "    print detail.select_one('dl.blog-stats').select('dt')[2].text,\\\n",
    "          detail.select_one('dl.blog-stats').select('dd')[2].text\n",
    "    print detail.select_one('dl.blog-articles').select('dt')[0].text,\\\n",
    "          detail.select_one('dl.blog-articles').select('dd')[0].text\n",
    "    print detail.select_one('dl.blog-desc').select('dt')[0].text,\\\n",
    "          detail.select_one('dl.blog-desc').select('dd')[0].text\n"
   ]
  },
  {
   "cell_type": "code",
   "execution_count": null,
   "metadata": {
    "collapsed": true
   },
   "outputs": [],
   "source": []
  }
 ],
 "metadata": {
  "anaconda-cloud": {},
  "kernelspec": {
   "display_name": "Python [conda root]",
   "language": "python",
   "name": "conda-root-py"
  },
  "language_info": {
   "codemirror_mode": {
    "name": "ipython",
    "version": 2
   },
   "file_extension": ".py",
   "mimetype": "text/x-python",
   "name": "python",
   "nbconvert_exporter": "python",
   "pygments_lexer": "ipython2",
   "version": "2.7.12"
  }
 },
 "nbformat": 4,
 "nbformat_minor": 1
}
