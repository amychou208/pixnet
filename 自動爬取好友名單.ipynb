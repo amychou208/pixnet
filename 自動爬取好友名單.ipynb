{
 "cells": [
  {
   "cell_type": "markdown",
   "metadata": {},
   "source": [
    "# name list"
   ]
  },
  {
   "cell_type": "code",
   "execution_count": 7,
   "metadata": {
    "collapsed": false
   },
   "outputs": [
    {
     "name": "stdout",
     "output_type": "stream",
     "text": [
      "[<span class=\"nickname\">a00a00</span>, <span class=\"nickname\">a026655</span>, <span class=\"nickname\">a0932832957</span>, <span class=\"nickname\">a0987407022</span>, <span class=\"nickname\">a1984173</span>, <span class=\"nickname\">a200371123</span>, <span class=\"nickname\">a221740</span>, <span class=\"nickname\">a23wendy</span>, <span class=\"nickname\">a2928796</span>, <span class=\"nickname\">a334394</span>, <span class=\"nickname\">a404119</span>, <span class=\"nickname\">a606691</span>, <span class=\"nickname\">a77772033</span>, <span class=\"nickname\">a902045</span>, <span class=\"nickname\">a9120054</span>]\n"
     ]
    }
   ],
   "source": [
    "import lxml\n",
    "import requests as r\n",
    "import time\n",
    "from bs4 import BeautifulSoup\n",
    "\n",
    "name = \" \"\n",
    "URL = \"http://{}.pixnet.net/friend/list\".format(name)\n",
    "\n",
    "res = r.post(URL.format(name))\n",
    "res.encoding = 'UTF-8'\n",
    "soup = BeautifulSoup(res.text, 'lxml')\n",
    "\n",
    "name_list = soup.select('tbody')\n",
    "for names in name_list:\n",
    "    print names.select('span.nickname')"
   ]
  },
  {
   "cell_type": "code",
   "execution_count": 107,
   "metadata": {
    "collapsed": false
   },
   "outputs": [
    {
     "name": "stdout",
     "output_type": "stream",
     "text": [
      "Collecting selenium==2.53.6\n",
      "  Downloading selenium-2.53.6-py2.py3-none-any.whl (884kB)\n",
      "Installing collected packages: selenium\n",
      "  Found existing installation: selenium 3.0.1\n",
      "    Uninstalling selenium-3.0.1:\n",
      "      Successfully uninstalled selenium-3.0.1\n",
      "Successfully installed selenium-2.53.6\n"
     ]
    }
   ],
   "source": [
    "!pip install selenium==2.53.6"
   ]
  },
  {
   "cell_type": "markdown",
   "metadata": {},
   "source": [
    "# selenium"
   ]
  },
  {
   "cell_type": "code",
   "execution_count": 2,
   "metadata": {
    "collapsed": false,
    "scrolled": true
   },
   "outputs": [
    {
     "name": "stdout",
     "output_type": "stream",
     "text": [
      "a00a00\n",
      "a026655\n",
      "a0932832957\n",
      "a0987407022\n",
      "a1984173\n",
      "a200371123\n",
      "a221740\n",
      "a23wendy\n",
      "a2928796\n",
      "a334394\n",
      "a404119\n",
      "a606691\n",
      "a77772033\n",
      "a902045\n",
      "a9120054\n"
     ]
    }
   ],
   "source": [
    "from selenium import webdriver\n",
    "import time,re\n",
    "from bs4 import BeautifulSoup\n",
    "\n",
    "username = \"hopw721\"\n",
    "F_URL = \"http://{}.pixnet.net/friend/list\"\n",
    "\n",
    "driver = webdriver.Chrome()\n",
    "driver.implicitly_wait(3)\n",
    "driver.get(F_URL.format(username))\n",
    "\n",
    "for i in range(1,1):\n",
    "    driver.execute_script('window.scrollTo(0,document.body.scrollHeight);')\n",
    "    time.sleep(1)\n",
    "soup = BeautifulSoup(driver.page_source)\n",
    "\n",
    "for names in soup.select('span.nickname'):\n",
    "    print names.text\n",
    "    "
   ]
  },
  {
   "cell_type": "code",
   "execution_count": 2,
   "metadata": {
    "collapsed": false
   },
   "outputs": [
    {
     "ename": "NameError",
     "evalue": "name 'webdriver' is not defined",
     "output_type": "error",
     "traceback": [
      "\u001b[0;31m---------------------------------------------------------------------------\u001b[0m",
      "\u001b[0;31mNameError\u001b[0m                                 Traceback (most recent call last)",
      "\u001b[0;32m<ipython-input-2-e0137cf8013e>\u001b[0m in \u001b[0;36m<module>\u001b[0;34m()\u001b[0m\n\u001b[1;32m     35\u001b[0m \u001b[0mF_URL\u001b[0m \u001b[1;33m=\u001b[0m \u001b[1;34m\"http://{}.pixnet.net/friend/list\"\u001b[0m\u001b[1;33m\u001b[0m\u001b[0m\n\u001b[1;32m     36\u001b[0m \u001b[1;33m\u001b[0m\u001b[0m\n\u001b[0;32m---> 37\u001b[0;31m \u001b[0mdriver\u001b[0m \u001b[1;33m=\u001b[0m \u001b[0mwebdriver\u001b[0m\u001b[1;33m.\u001b[0m\u001b[0mChrome\u001b[0m\u001b[1;33m(\u001b[0m\u001b[1;33m)\u001b[0m\u001b[1;33m\u001b[0m\u001b[0m\n\u001b[0m\u001b[1;32m     38\u001b[0m \u001b[0mdriver\u001b[0m\u001b[1;33m.\u001b[0m\u001b[0mimplicitly_wait\u001b[0m\u001b[1;33m(\u001b[0m\u001b[1;36m3\u001b[0m\u001b[1;33m)\u001b[0m\u001b[1;33m\u001b[0m\u001b[0m\n\u001b[1;32m     39\u001b[0m \u001b[0mdriver\u001b[0m\u001b[1;33m.\u001b[0m\u001b[0mget\u001b[0m\u001b[1;33m(\u001b[0m\u001b[0mF_URL\u001b[0m\u001b[1;33m.\u001b[0m\u001b[0mformat\u001b[0m\u001b[1;33m(\u001b[0m\u001b[0mname\u001b[0m\u001b[1;33m)\u001b[0m\u001b[1;33m)\u001b[0m\u001b[1;33m\u001b[0m\u001b[0m\n",
      "\u001b[0;31mNameError\u001b[0m: name 'webdriver' is not defined"
     ]
    }
   ],
   "source": [
    "# -*- coding: utf-8 -*-\n",
    "import sys \n",
    "reload(sys)\n",
    "sys.setdefaultencoding('utf-8')\n",
    "import lxml\n",
    "import requests as r\n",
    "import json\n",
    "from bs4 import BeautifulSoup\n",
    "\n",
    "name=\"hopw721\"\n",
    "URL = \"https://www.pixnet.net/blog/profile/{}\"\n",
    "res = r.get(URL.format(name)) \n",
    "res.encoding = 'utf-8'\n",
    "soup = BeautifulSoup(res.text, 'lxml')\n",
    "\n",
    "username = soup.select_one('h3').text \n",
    "blogname = soup.select_one('a.blog_name').text \n",
    "blogarticles = soup.select_one('dl.blog-articles').text.split('：')[1] \n",
    "usedays = soup.find_all('dd')[1].text \n",
    "follower = soup.find_all('dd')[3].text \n",
    "friends = soup.find_all('dd')[4].text \n",
    "#hot = soup.find_all('dd')[2].text \n",
    "description = soup.select_one('p.hide-more').text \n",
    "\n",
    "profile_dict = {'username':username,\n",
    "                'blogname':blogname,\n",
    "                'blogarticles':blogarticles,\n",
    "                'usedays':usedays,\n",
    "                'follower':follower,\n",
    "                'friends':friends,\n",
    "                # 'hot':hot,\n",
    "                'description':description,\n",
    "               } \n",
    "\n",
    "F_URL = \"http://{}.pixnet.net/friend/list\"\n",
    "\n",
    "driver = webdriver.Chrome()\n",
    "driver.implicitly_wait(3)\n",
    "driver.get(F_URL.format(name))\n",
    "\n",
    "for i in range(1,2):\n",
    "    driver.execute_script('window.scrollTo(0,document.body.scrollHeight);')\n",
    "    time.sleep(1)\n",
    "soup = BeautifulSoup(driver.page_source)\n",
    "\n",
    "for names in soup.select('span.nickname'):\n",
    "    print names.text \n",
    "    \n",
    "\n",
    "print profile_dict\n",
    "\n",
    "\n"
   ]
  },
  {
   "cell_type": "code",
   "execution_count": null,
   "metadata": {
    "collapsed": true
   },
   "outputs": [],
   "source": []
  }
 ],
 "metadata": {
  "anaconda-cloud": {},
  "kernelspec": {
   "display_name": "Python [default]",
   "language": "python",
   "name": "python2"
  },
  "language_info": {
   "codemirror_mode": {
    "name": "ipython",
    "version": 2
   },
   "file_extension": ".py",
   "mimetype": "text/x-python",
   "name": "python",
   "nbconvert_exporter": "python",
   "pygments_lexer": "ipython2",
   "version": "2.7.12"
  }
 },
 "nbformat": 4,
 "nbformat_minor": 1
}
