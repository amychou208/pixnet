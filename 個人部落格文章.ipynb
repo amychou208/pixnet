{
 "cells": [
  {
   "cell_type": "markdown",
   "metadata": {
    "collapsed": true
   },
   "source": [
    "## 個人部落格文章 Categories & URL"
   ]
  },
  {
   "cell_type": "code",
   "execution_count": 1,
   "metadata": {
    "collapsed": false,
    "scrolled": true
   },
   "outputs": [
    {
     "ename": "AttributeError",
     "evalue": "'NoneType' object has no attribute 'select'",
     "output_type": "error",
     "traceback": [
      "\u001b[0;31m---------------------------------------------------------------------------\u001b[0m",
      "\u001b[0;31mAttributeError\u001b[0m                            Traceback (most recent call last)",
      "\u001b[0;32m<ipython-input-1-d2caefb41456>\u001b[0m in \u001b[0;36m<module>\u001b[0;34m()\u001b[0m\n\u001b[1;32m     17\u001b[0m \u001b[1;33m\u001b[0m\u001b[0m\n\u001b[1;32m     18\u001b[0m \u001b[1;31m#該部落格總頁數\u001b[0m\u001b[1;33m\u001b[0m\u001b[1;33m\u001b[0m\u001b[0m\n\u001b[0;32m---> 19\u001b[0;31m \u001b[0mtotalpage\u001b[0m \u001b[1;33m=\u001b[0m \u001b[0msoup\u001b[0m\u001b[1;33m.\u001b[0m\u001b[0mselect_one\u001b[0m\u001b[1;33m(\u001b[0m\u001b[1;34m'div.page'\u001b[0m\u001b[1;33m)\u001b[0m\u001b[1;33m.\u001b[0m\u001b[0mselect\u001b[0m\u001b[1;33m(\u001b[0m\u001b[1;34m'a'\u001b[0m\u001b[1;33m)\u001b[0m\u001b[1;33m[\u001b[0m\u001b[1;33m-\u001b[0m\u001b[1;36m2\u001b[0m\u001b[1;33m]\u001b[0m\u001b[1;33m.\u001b[0m\u001b[0mtext\u001b[0m\u001b[1;33m\u001b[0m\u001b[0m\n\u001b[0m\u001b[1;32m     20\u001b[0m \u001b[1;33m\u001b[0m\u001b[0m\n\u001b[1;32m     21\u001b[0m \u001b[1;32mfor\u001b[0m \u001b[0mnumber\u001b[0m \u001b[1;32min\u001b[0m \u001b[0mrange\u001b[0m \u001b[1;33m(\u001b[0m\u001b[1;36m1\u001b[0m\u001b[1;33m,\u001b[0m\u001b[0mint\u001b[0m\u001b[1;33m(\u001b[0m\u001b[0mtotalpage\u001b[0m\u001b[1;33m)\u001b[0m\u001b[1;33m+\u001b[0m\u001b[1;36m1\u001b[0m\u001b[1;33m)\u001b[0m\u001b[1;33m:\u001b[0m\u001b[1;33m\u001b[0m\u001b[0m\n",
      "\u001b[0;31mAttributeError\u001b[0m: 'NoneType' object has no attribute 'select'"
     ]
    }
   ],
   "source": [
    "# -*- coding: utf-8 -*-\n",
    "\n",
    "\n",
    "# import sys \n",
    "# reload(sys)\n",
    "# sys.setdefaultencoding('utf-8')\n",
    "import lxml\n",
    "import requests as r\n",
    "import json\n",
    "from bs4 import BeautifulSoup\n",
    "\n",
    "name=\"carol0328\"\n",
    "URL = 'http://{}.pixnet.net/blog'\n",
    "res = r.get(URL.format(name)) \n",
    "res.encoding = 'utf-8'\n",
    "soup = BeautifulSoup(res.text, 'lxml')\n",
    "\n",
    "#該部落格總頁數\n",
    "totalpage = soup.select_one('div.page').select('a')[-2].text\n",
    "\n",
    "for number in range (1,int(totalpage)+1):\n",
    "    page = URL.format(name)\n",
    "    pagenum = page+'/{}'.format(number)\n",
    "    res = r.get(pagenum) \n",
    "    res.encoding = 'utf-8'\n",
    "    soup = BeautifulSoup(res.text, 'lxml')\n",
    "\n",
    "       \n",
    "    for category in soup.find_all(\"li\", { \"class\" : 'title' }):\n",
    "        #文章全站分類 \n",
    "        categories = category['data-site-category']\n",
    "        print categories\n",
    "        #文章連結\n",
    "        P_url = \"http://carol0328.pixnet.net/blog/post/{}\"\n",
    "        id = category['id'].split('-')[1]\n",
    "        PS_url = (P_url.format(id))\n",
    "        print PS_url\n",
    "        #文章內文\n",
    "        content = r.get(PS_url)\n",
    "        content.encoding = 'utf-8'\n",
    "        contentsoup = BeautifulSoup(content.text, 'lxml')\n",
    "        print contentsoup.select_one('li.publish').text\n",
    "        print contentsoup.select_one('li.title').select_one('a').text\n",
    "        print contentsoup.select_one('div.article-content-inner').text\n",
    "        #文章個人分類\n",
    "        print contentsoup.select_one('ul.refer').select('li')[1].text\n",
    "        print '============================================'\n",
    "        \n"
   ]
  },
  {
   "cell_type": "code",
   "execution_count": null,
   "metadata": {
    "collapsed": true
   },
   "outputs": [],
   "source": []
  }
 ],
 "metadata": {
  "anaconda-cloud": {},
  "kernelspec": {
   "display_name": "Python [default]",
   "language": "python",
   "name": "python2"
  },
  "language_info": {
   "codemirror_mode": {
    "name": "ipython",
    "version": 2
   },
   "file_extension": ".py",
   "mimetype": "text/x-python",
   "name": "python",
   "nbconvert_exporter": "python",
   "pygments_lexer": "ipython2",
   "version": "2.7.12"
  }
 },
 "nbformat": 4,
 "nbformat_minor": 1
}
